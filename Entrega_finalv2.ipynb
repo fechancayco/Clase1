{
  "nbformat": 4,
  "nbformat_minor": 0,
  "metadata": {
    "colab": {
      "provenance": [],
      "include_colab_link": true
    },
    "kernelspec": {
      "name": "python3",
      "display_name": "Python 3"
    },
    "language_info": {
      "name": "python"
    }
  },
  "cells": [
    {
      "cell_type": "markdown",
      "metadata": {
        "id": "view-in-github",
        "colab_type": "text"
      },
      "source": [
        "<a href=\"https://colab.research.google.com/github/fechancayco/Clase1/blob/main/Entrega_finalv2.ipynb\" target=\"_parent\"><img src=\"https://colab.research.google.com/assets/colab-badge.svg\" alt=\"Open In Colab\"/></a>"
      ]
    },
    {
      "cell_type": "markdown",
      "source": [
        "**Repositorio de GitHub:**  \n",
        "https://github.com/Pala63/Entrega_final_prueba_practica.git\n",
        "\n",
        "**Retroalimentación recibida:**  \n",
        "Durante los trabajos prácticos recibimos retroalimentación sobre la importancia del uso de ramas al colaborar, el uso de `pull request` para revisión de código, y la necesidad de documentar correctamente los procesos de limpieza y análisis de datos. También se destacó el uso de herramientas como Selenium para scraping en sitios dinámicos.\n"
      ],
      "metadata": {
        "id": "nSpvHQpBRHBi"
      }
    },
    {
      "cell_type": "markdown",
      "source": [
        "# Trabajos Prácticos - Curso de Ciberseguridad\n",
        "\n",
        "Este documento contiene el desarrollo de los trabajos prácticos solicitados, incluyendo el enlace al repositorio, retroalimentación recibida y las respuestas a las preguntas.\n",
        "\n",
        "\n",
        "### a) Trabajo práctico 1:\n",
        "**Pregunta:** Usted es el líder del equipo de desarrollo de un producto de software. ¿Cómo resolvería *merge conflicts* en el proyecto?\n",
        "\n",
        "**Respuesta:**\n",
        "\n",
        "Como líder, promuevo el uso de ramas separadas para cada funcionalidad y el hábito de hacer `pull` antes de hacer `push`. Al presentarse un *merge conflict*, reviso los archivos afectados con `git status` y los comparo usando `git diff`. Identifico las secciones marcadas por Git (`<<<<<<<`, `=======`, `>>>>>>>`) y, en conjunto con los desarrolladores involucrados, decidimos cuál versión conservar o cómo combinar los cambios. Después de resolverlo, pruebo el sistema localmente, confirmo que no hay errores, y hago `git add`, `commit` y `push`. También promuevo herramientas visuales como GitHub Desktop o VS Code para facilitar la resolución de conflictos.\n",
        "\n",
        "---\n",
        "\n",
        "### b) Trabajo práctico 2:\n",
        "**Pregunta:** Para un proyecto personal, necesita obtener data de un sitio web basado en JavaScript. ¿Cómo lo haría?\n",
        "\n",
        "**Respuesta:**\n",
        "\n",
        "Usaría Selenium, que permite automatizar un navegador como Chrome y ejecutar scripts JavaScript. Primero, instalaría Selenium (`pip install selenium`) y descargaría `ChromeDriver`. Luego, escribiría un script que cargue el sitio, espere la carga del contenido dinámico usando `WebDriverWait`, y obtenga los datos mediante `xpath` o `css_selectors`. Si el sitio es muy dinámico, consideraría usar Playwright. Para evitar bloqueos, rotaría agentes de usuario, pausas con `time.sleep`, y evitaría hacer demasiadas peticiones seguidas. Finalmente, almacenaría los datos en CSV o una base de datos.\n",
        "\n",
        "---\n",
        "\n",
        "### c) Trabajo práctico 3:\n",
        "**Pregunta:** En su empresa le encargan generar un modelo de Machine Learning para predecir la probabilidad de que un cliente compre un producto. ¿Qué pasos realizaría?\n",
        "\n",
        "**Respuesta:**\n",
        "\n",
        "1. Recolecto y limpio los datos (historial, comportamiento, datos demográficos).\n",
        "2. Realizo análisis exploratorio (EDA) para entender patrones y relaciones.\n",
        "3. Divido los datos (train/test), selecciono características relevantes y escalo valores si es necesario.\n",
        "4. Selecciono modelos (Logistic Regression, Random Forest, XGBoost).\n",
        "5. Entreno y evalúo el modelo usando métricas como precisión, recall, F1-score.\n",
        "6. Ajusto hiperparámetros con validación cruzada (GridSearchCV).\n",
        "7. Implemento el modelo como una API o servicio.\n",
        "8. Monitoreo el rendimiento en producción para detectar deterioro del modelo con el tiempo (drift de datos).\n",
        "\n"
      ],
      "metadata": {
        "id": "LZn14_VaQoy7"
      }
    }
  ]
}